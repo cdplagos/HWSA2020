{
 "cells": [
  {
   "cell_type": "markdown",
   "metadata": {},
   "source": [
    "# Writing Readble code\n",
    "\n",
    "What does the code below do?\n",
    "\n",
    "What do num_lines and nwords represent?"
   ]
  },
  {
   "cell_type": "code",
   "execution_count": null,
   "metadata": {},
   "outputs": [],
   "source": [
    "a=\"\"\"Beautiful is better than ugly.\n",
    "Explicit is better than implicit.\n",
    "Simple is better than complex.\n",
    "Complex is better than complicated.\n",
    "Flat is better than nested.\n",
    "Sparse is better than dense.\n",
    "Readability counts.\n",
    "\"\"\"\n",
    "\n",
    "lines = a.split('\\n') # \\n is the newline character\n",
    "num_lines = len(lines)\n",
    "\n",
    "nwords = 0\n",
    "for line in lines:\n",
    "    words = line.split()\n",
    "    nwords += len(words)\n"
   ]
  },
  {
   "cell_type": "markdown",
   "metadata": {},
   "source": [
    "How about this?"
   ]
  },
  {
   "cell_type": "code",
   "execution_count": null,
   "metadata": {},
   "outputs": [],
   "source": [
    "num_lines = len(a.split('\\n'))\n",
    "nwords = len(a.split())\n"
   ]
  },
  {
   "cell_type": "markdown",
   "metadata": {},
   "source": [
    "What does this do?"
   ]
  },
  {
   "cell_type": "code",
   "execution_count": null,
   "metadata": {},
   "outputs": [],
   "source": [
    "print(len(list(i for i in a if i=='e')))"
   ]
  },
  {
   "cell_type": "markdown",
   "metadata": {},
   "source": [
    "We can increase the readbility of code by using indentation, especially when we are creating collections such as dictionaries, or lists."
   ]
  },
  {
   "cell_type": "code",
   "execution_count": null,
   "metadata": {},
   "outputs": [],
   "source": [
    "fmts = {\n",
    "        \"ann\": \"Kvis annotation\",\n",
    "        \"reg\": \"DS9 regions file\",\n",
    "        \"fits\": \"FITS Binary Table\",\n",
    "        \"csv\": \"Comma separated values\",\n",
    "        \"tab\": \"tabe separated values\",\n",
    "        \"tex\": \"LaTeX table format\",\n",
    "        \"html\": \"HTML table\",\n",
    "        \"vot\": \"VO-Table\",\n",
    "        \"xml\": \"VO-Table\",\n",
    "        \"db\": \"Sqlite3 database\",\n",
    "        \"sqlite\": \"Sqlite3 database\"}"
   ]
  },
  {
   "cell_type": "markdown",
   "metadata": {},
   "source": [
    "I find it super useful to set out my 'matricies' in the following way"
   ]
  },
  {
   "cell_type": "code",
   "execution_count": null,
   "metadata": {},
   "outputs": [],
   "source": [
    "my_matrix = [[1, 0, 1],\n",
    "             [0, 1, 0],\n",
    "             [1, 0, 0]]"
   ]
  },
  {
   "cell_type": "markdown",
   "metadata": {},
   "source": [
    "We can also usin inline comments with the multi-line collections, and use comments to exclude items without having to delete them"
   ]
  },
  {
   "cell_type": "code",
   "execution_count": null,
   "metadata": {},
   "outputs": [],
   "source": [
    "books = ['Advanced Engineering Maths, Kreyszig', # Standard textbook\n",
    "         # 'Flowers for Algernon, Keyes', # Great read\n",
    "         'Rendezvous with Rama, Clarke', # Classic Sci-fi \n",
    "        ]"
   ]
  },
  {
   "cell_type": "markdown",
   "metadata": {},
   "source": [
    "Using multiple lines for defining or calling a function with a lot of options/parameters can also be helpful."
   ]
  },
  {
   "cell_type": "code",
   "execution_count": null,
   "metadata": {},
   "outputs": [],
   "source": [
    "def do_lots_of_things(option1, # required\n",
    "                      option2=0, # not required, has default value\n",
    "                      option3=1,\n",
    "                      labels=(),\n",
    "                      sqlconnecion=None,\n",
    "                      retries=3,\n",
    "                      verbose=False,\n",
    "                      do_print=True):\n",
    "    pass"
   ]
  },
  {
   "cell_type": "markdown",
   "metadata": {},
   "source": [
    "You can mix it up. Having related things on the same line can be a nice way to group things together. As in the following where the `verbose` and `do_print` options seem to be related."
   ]
  },
  {
   "cell_type": "code",
   "execution_count": null,
   "metadata": {},
   "outputs": [],
   "source": [
    "do_lots_of_things('all the things',\n",
    "                  labels=('one','two','three'),\n",
    "                  verbose=True, do_print=False)\n",
    "                  "
   ]
  },
  {
   "cell_type": "markdown",
   "metadata": {},
   "source": [
    "What does the following code do?\n",
    "\n",
    "Hint: look at the output and guess\n",
    "\n",
    "How does this work?\n",
    "\n",
    "Hint: It's magic"
   ]
  },
  {
   "cell_type": "code",
   "execution_count": null,
   "metadata": {},
   "outputs": [],
   "source": [
    "from functools import reduce\n",
    "N=100\n",
    "print(reduce( (lambda r,x: (r.difference_update(range(x*x,N,2*x)) or r)\n",
    "                     if (x in r) else r), \n",
    "        range(3, int((N+1)**0.5+1), 2),\n",
    "        set([1,2] + list(range(3,N,2)))))"
   ]
  },
  {
   "cell_type": "markdown",
   "metadata": {},
   "source": [
    "What does this code do?\n",
    "\n",
    "How does it do it?\n",
    "\n",
    "Hint: read the code"
   ]
  },
  {
   "cell_type": "code",
   "execution_count": null,
   "metadata": {},
   "outputs": [],
   "source": [
    "from math import sqrt\n",
    "N = 100\n",
    "sieve = list(range(N))\n",
    "for number in range(2, int(sqrt(N))+1):\n",
    "    if sieve[number]:\n",
    "        for multiple in range(number**2,N,number):\n",
    "            sieve[multiple] = False\n",
    "        \n",
    "for number, prime in enumerate(sieve):\n",
    "    if prime:\n",
    "        print(number)"
   ]
  },
  {
   "cell_type": "markdown",
   "metadata": {},
   "source": [
    "Be careful when naming variables, as there are a lot of existing variables that Python uses for builtin function or variable names.\n",
    "\n",
    "You can see them using the `dir()` function on the `__builtins__` module."
   ]
  },
  {
   "cell_type": "code",
   "execution_count": null,
   "metadata": {},
   "outputs": [],
   "source": [
    "dir(__builtins__) "
   ]
  },
  {
   "cell_type": "markdown",
   "metadata": {},
   "source": [
    "The special variable `_` is used to store the last returned value"
   ]
  },
  {
   "cell_type": "code",
   "execution_count": null,
   "metadata": {},
   "outputs": [],
   "source": [
    "1+2"
   ]
  },
  {
   "cell_type": "code",
   "execution_count": null,
   "metadata": {},
   "outputs": [],
   "source": [
    "print(_)"
   ]
  },
  {
   "cell_type": "markdown",
   "metadata": {},
   "source": [
    "It is commonly used by programmers to indicate things they don't care about.\n",
    "\n",
    "I used to use a variable called `junk` for this, so that when I came back to read my code I could tell that the particuluar variable isn't being used and so I shouldn't try interpreting some meaning from it.\n",
    "\n",
    "In the following function we only care about the first and third returned value:"
   ]
  },
  {
   "cell_type": "code",
   "execution_count": null,
   "metadata": {},
   "outputs": [],
   "source": [
    "def function_returns_three_things():\n",
    "    return 0, 1, 2\n",
    "\n",
    "mean, _, number = function_returns_three_things()"
   ]
  },
  {
   "cell_type": "markdown",
   "metadata": {},
   "source": [
    "# Coding Idioms\n",
    "\n",
    "Writing idomatic code makes your code easier for others to read, and idioms are typically best use examples for a given task.\n",
    "\n",
    "A short read with some basic coding idioms: https://en.wikibooks.org/wiki/Python_Programming/Idioms\n",
    "\n",
    "A long read but with many good examples: https://books.goalkicker.com/PythonBook/"
   ]
  },
  {
   "cell_type": "code",
   "execution_count": null,
   "metadata": {},
   "outputs": [],
   "source": [
    "collection = {'a':10,10:'things', 'test':None}\n",
    "for key, val in collection.items():\n",
    "    print(f\"collection[{key}] = {val}\")\n",
    "\n",
    "l = list(range(3,10))\n",
    "for key, val in enumerate(l):\n",
    "    print(f\"list[{key}] = {val}\")"
   ]
  },
  {
   "cell_type": "code",
   "execution_count": null,
   "metadata": {},
   "outputs": [],
   "source": [
    "a = ['a','few','strings','that', \"i'd\", 'like' ,'to', 'concatentate']\n",
    "\n",
    "# Don't do this\n",
    "string =''\n",
    "for i in a:\n",
    "    string += i\n",
    "print(string)\n",
    "\n",
    "# use the .join function instead\n",
    "print(''.join(a))"
   ]
  },
  {
   "cell_type": "markdown",
   "metadata": {},
   "source": [
    "Repeat the above, but this time make sure there is a space between each word. Which of the two methods is going to be the easist to modify?"
   ]
  },
  {
   "cell_type": "markdown",
   "metadata": {},
   "source": [
    "# Structure of code\n",
    "Keeping your python script well structure will make it a lot easier for people to understand what you are doing.\n",
    "\n",
    "I recommend the following structure:\n",
    "- premable\n",
    "- imports\n",
    "- global variables\n",
    "- classes\n",
    "- functions\n",
    "- `if __name__` clause"
   ]
  },
  {
   "cell_type": "markdown",
   "metadata": {},
   "source": [
    "## Preamble\n",
    "\n",
    "The first line which begins with a `#!` means that this file can be run as `./code.py` instead of `python code.py`. It also means that you could `chmod ugo+x` and rename the file to just `code` and it will still invoke the python interpreter.\n",
    "\n",
    "The `__author__` and `__date__` are nice, and are used by pypi.org and other places to fill in metadata. "
   ]
  },
  {
   "cell_type": "code",
   "execution_count": null,
   "metadata": {},
   "outputs": [],
   "source": [
    "#! /usr/bin/env python\n",
    "\"\"\"\n",
    "Module level doc string.\n",
    "\"\"\"\n",
    "__author__ = ['Paul Hancock', ]\n",
    "__date__ = '2019-07-04'"
   ]
  },
  {
   "cell_type": "markdown",
   "metadata": {},
   "source": [
    "I also find it nice to have a `__cite__` variable which instructs users/developers on how you would like to be recognized for your work."
   ]
  },
  {
   "cell_type": "markdown",
   "metadata": {},
   "source": [
    "## Imports\n",
    "Next part is where we bring in all the external codes. This means importing modules, submodules, specific functions, and maybe renaming some of them.\n",
    "\n",
    "This should make it clear what the dependancies are, and also where the various functions are comming from.\n",
    "\n",
    "NEVER use `from xxx import *` it's a bad idea"
   ]
  },
  {
   "cell_type": "code",
   "execution_count": null,
   "metadata": {},
   "outputs": [],
   "source": [
    "import astropy\n",
    "from astropy.io import fits\n",
    "\n",
    "import math\n",
    "import numpy as np"
   ]
  },
  {
   "cell_type": "markdown",
   "metadata": {},
   "source": [
    "## Global variables and constants\n",
    "\n",
    "If we want to have global or static variables this is where we should define them.\n",
    "If we know that we'll need some variable in the global scope, but don't yet know how to initialise it, it is a good idea to still set that variable as None here, so that it is clear that this is a global."
   ]
  },
  {
   "cell_type": "code",
   "execution_count": null,
   "metadata": {},
   "outputs": [],
   "source": [
    "AGE_OF_UNIVERSE = 1 # units of Hubble time\n",
    "SPEED_OF_LIGHT = 1 # units of c\n",
    "\n",
    "some_global_variable = None # defined but not set to anything useful"
   ]
  },
  {
   "cell_type": "markdown",
   "metadata": {},
   "source": [
    "## Classes and functions\n",
    "\n",
    "Next we define all the functions and classes that we will need, and maybe some that whe don't. The ordering here is unimportant for Python, but it's nice to group them for readability."
   ]
  },
  {
   "cell_type": "code",
   "execution_count": null,
   "metadata": {},
   "outputs": [],
   "source": [
    "class Thingamabob(object):  # Classes should always subclass object or some other class.\n",
    "    pass\n",
    "\n",
    "def function1():\n",
    "    pass\n",
    "\n",
    "def function2():\n",
    "    pass\n",
    "\n",
    "def function3():\n",
    "    pass"
   ]
  },
  {
   "cell_type": "markdown",
   "metadata": {},
   "source": [
    "## The `if __main__` clause\n",
    "Finally, once all the hard work is done, we have this idiom which is the equivalent of a main() function in C or Java. The advantage here is that this code block will do nothing if the code is imported as a module, but will execute if this is run from the command line.\n",
    "\n",
    "This is also an excellent place to put all your `argparse` and `logging` setup.\n",
    "\n",
    "If you are writing a module that isn't meant to run from the command line directly, then this is a nice place to put some test codes!"
   ]
  },
  {
   "cell_type": "code",
   "execution_count": null,
   "metadata": {},
   "outputs": [],
   "source": [
    "if __name__ == \"__main__\":\n",
    "    print(\"Running the main program\")\n",
    "    function1()\n",
    "    function2()\n",
    "    print(\"Finished!\")"
   ]
  },
  {
   "cell_type": "code",
   "execution_count": null,
   "metadata": {},
   "outputs": [],
   "source": []
  }
 ],
 "metadata": {
  "kernelspec": {
   "display_name": "Python 3",
   "language": "python",
   "name": "python3"
  },
  "language_info": {
   "codemirror_mode": {
    "name": "ipython",
    "version": 3
   },
   "file_extension": ".py",
   "mimetype": "text/x-python",
   "name": "python",
   "nbconvert_exporter": "python",
   "pygments_lexer": "ipython3",
   "version": "3.6.9"
  }
 },
 "nbformat": 4,
 "nbformat_minor": 2
}
