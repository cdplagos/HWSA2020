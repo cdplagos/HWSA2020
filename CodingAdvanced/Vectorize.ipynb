{
 "cells": [
  {
   "cell_type": "markdown",
   "metadata": {},
   "source": [
    "# Vectorizing code\n",
    "\n",
    "We start out with an example where we have a function that is defined on a single variable."
   ]
  },
  {
   "cell_type": "code",
   "execution_count": null,
   "metadata": {},
   "outputs": [],
   "source": [
    "import math\n",
    "\n",
    "def sigmoid(x):\n",
    "    \"\"\"\n",
    "    Compute the sigmoid of x defined by\n",
    "    S(x) = exp(x)/(exp(x)+1)\n",
    "    \n",
    "    Parameters\n",
    "    ----------\n",
    "    x : float or int\n",
    "        Input variable\n",
    "        \n",
    "    Returns\n",
    "    -------\n",
    "    sx : float\n",
    "        The sigmoid of x\n",
    "    \"\"\"\n",
    "    sx = math.exp(x) / (math.exp(x) + 1)\n",
    "    return sx"
   ]
  },
  {
   "cell_type": "markdown",
   "metadata": {},
   "source": [
    "We will plot our function jut to make sure that it's giving the correct results. But in order to do that we have to compute sigmoid(x) for lots of values of x."
   ]
  },
  {
   "cell_type": "code",
   "execution_count": null,
   "metadata": {},
   "outputs": [],
   "source": [
    "N = 1000 # number of samples\n",
    "minx = -10\n",
    "maxx = 10\n",
    "\n",
    "x = []\n",
    "sx = []\n",
    "for i in range(N+1): # use +1 to ensure that the max value is in our list\n",
    "    val = minx + i/N * ( maxx - minx) # creates a value between minx and maxx\n",
    "    x.append(val)\n",
    "    sx.append(sigmoid(val))"
   ]
  },
  {
   "cell_type": "markdown",
   "metadata": {},
   "source": [
    "Now we can make the plot!"
   ]
  },
  {
   "cell_type": "code",
   "execution_count": null,
   "metadata": {},
   "outputs": [],
   "source": [
    "%matplotlib inline\n",
    "from matplotlib import pyplot"
   ]
  },
  {
   "cell_type": "code",
   "execution_count": null,
   "metadata": {},
   "outputs": [],
   "source": [
    "pyplot.plot(x,sx)\n",
    "pyplot.xlabel('x')\n",
    "pyplot.ylabel('sigmoid(x)')\n",
    "pyplot.show()"
   ]
  },
  {
   "cell_type": "markdown",
   "metadata": {},
   "source": [
    "Success, our functoin works as intended"
   ]
  },
  {
   "cell_type": "markdown",
   "metadata": {},
   "source": [
    "# Avoiding loops\n",
    "\n",
    "If we want to create our list of x values we can use a numpy function called `linspace` instead of writing a loop. Lets try that instead."
   ]
  },
  {
   "cell_type": "code",
   "execution_count": null,
   "metadata": {},
   "outputs": [],
   "source": [
    "import numpy as np"
   ]
  },
  {
   "cell_type": "code",
   "execution_count": null,
   "metadata": {},
   "outputs": [],
   "source": [
    "N = 1000 # number of samples\n",
    "minx = -10\n",
    "maxx = 10\n",
    "\n",
    "x_array = np.linspace(start=minx,\n",
    "                      stop=maxx, \n",
    "                      num=N,\n",
    "                      endpoint=True) # endpoint =True means we don't need the +1 in our loop\n"
   ]
  },
  {
   "cell_type": "markdown",
   "metadata": {},
   "source": [
    "So lets run this through our function."
   ]
  },
  {
   "cell_type": "code",
   "execution_count": null,
   "metadata": {},
   "outputs": [],
   "source": [
    "sigmoid(x_array)"
   ]
  },
  {
   "cell_type": "markdown",
   "metadata": {},
   "source": [
    "Oh dear, we can only use scalars for this function :(\n",
    "\n",
    "The problem is that the math.exp function only deals with scalars. Lets replace this with the numpy equivalent, which knows about arrays."
   ]
  },
  {
   "cell_type": "code",
   "execution_count": null,
   "metadata": {},
   "outputs": [],
   "source": [
    "def sigmoid_vec(x):\n",
    "    \"\"\"\n",
    "    Compute the sigmoid of x defined by\n",
    "    S(x) = exp(x)/(exp(x)+1)\n",
    "    \n",
    "    Parameters\n",
    "    ----------\n",
    "    x : float or np.array or list([float, ...])\n",
    "        Input variable. Scalar or array or list.\n",
    "        \n",
    "    Returns\n",
    "    -------\n",
    "    sx : float or np.array\n",
    "        The sigmoid of x\n",
    "    \"\"\"\n",
    "    sx = np.exp(x) / (np.exp(x) + 1)\n",
    "    return sx"
   ]
  },
  {
   "cell_type": "markdown",
   "metadata": {},
   "source": [
    "Now lets firstly see if it does what the other function did"
   ]
  },
  {
   "cell_type": "code",
   "execution_count": null,
   "metadata": {},
   "outputs": [],
   "source": [
    "print(\"sigmoid(0) {0}\".format(sigmoid(0)))\n",
    "print(\"sigmoid_vec(0) {0}\".format(sigmoid_vec(0)))"
   ]
  },
  {
   "cell_type": "markdown",
   "metadata": {},
   "source": [
    "Succes! Now try passing our numpy array and see what happens."
   ]
  },
  {
   "cell_type": "code",
   "execution_count": null,
   "metadata": {},
   "outputs": [],
   "source": [
    "sigmoid_vec(x_array)"
   ]
  },
  {
   "cell_type": "markdown",
   "metadata": {},
   "source": [
    "Bonus: it also works on lists, as per our initial version of x"
   ]
  },
  {
   "cell_type": "code",
   "execution_count": null,
   "metadata": {},
   "outputs": [],
   "source": [
    "sigmoid_vec(x)"
   ]
  },
  {
   "cell_type": "markdown",
   "metadata": {},
   "source": [
    "So we can replace our loop with the following code:"
   ]
  },
  {
   "cell_type": "code",
   "execution_count": null,
   "metadata": {},
   "outputs": [],
   "source": [
    "N = 1000 # number of samples\n",
    "minx = -10\n",
    "maxx = 10\n",
    "\n",
    "x_array = np.linspace(start=minx,\n",
    "                      stop=maxx, \n",
    "                      num=N,\n",
    "                      endpoint=True) # endpoint =True means we don't need the +1 in our loop\n",
    "sx = sigmoid_vec(x_array)"
   ]
  },
  {
   "cell_type": "markdown",
   "metadata": {},
   "source": [
    "## Flow control\n",
    "Suppose we have a function that is defined differently for different types of input, or some piece-wise smooth function such as:\n",
    "\n",
    "\\begin{equation}\n",
    "\\text{Z(x)} \\rightarrow  \n",
    "\\begin{cases} \n",
    "x^3+x+1, & x>0\\\\\n",
    "x^2+1, & x \\le 0\\\\\n",
    "\\end{cases}\n",
    "\\end{equation}\n",
    "\n",
    "In this case we can use the `np.where` function to choose which parts of the array we are operating on."
   ]
  },
  {
   "cell_type": "code",
   "execution_count": null,
   "metadata": {},
   "outputs": [],
   "source": [
    "def z(x):\n",
    "    \"\"\"\n",
    "    z(x) = x^3+x+1  if x > 0\n",
    "    z(x) = x^2+1    if x <= 0\n",
    "    \n",
    "    parameters\n",
    "    ----------\n",
    "    x : float or np.array\n",
    "    \n",
    "    return\n",
    "    ------\n",
    "    z : float or np.array\n",
    "    \"\"\"\n",
    "    # create an empty array of the right size\n",
    "    z = np.zeros_like(x)\n",
    "    \n",
    "    # determine which elements of x belong to each of the two cases above\n",
    "    # This lower and upper are lists of array indexes that numpy can use to slice arrays\n",
    "    lower = np.where(x<0)\n",
    "    upper = np.where(x>0)\n",
    "    \n",
    "    # Compute the function using vector math, but only on subsets of the data\n",
    "    z[lower] = x[lower]**2 + 1\n",
    "    z[upper] = x[upper]**3 + x[upper] +1\n",
    "    z[np.where(x==0.)] = 1  # note that np.where can be used as an index directly\n",
    "    return z\n",
    "    "
   ]
  },
  {
   "cell_type": "code",
   "execution_count": null,
   "metadata": {},
   "outputs": [],
   "source": [
    "x2 = np.arange(-12,9,1)"
   ]
  },
  {
   "cell_type": "code",
   "execution_count": null,
   "metadata": {},
   "outputs": [],
   "source": [
    "z(x2)"
   ]
  },
  {
   "cell_type": "code",
   "execution_count": null,
   "metadata": {},
   "outputs": [],
   "source": [
    "pyplot.plot(x2,z(x2))\n",
    "pyplot.xlabel('x')\n",
    "pyplot.ylabel('z(x)')\n",
    "pyplot.show()"
   ]
  },
  {
   "cell_type": "markdown",
   "metadata": {},
   "source": [
    "# Summary\n",
    "\n",
    "We have now made it easier to work with our function because it can accept either single values or arrays or lists (and likely many other iterable objects but we didn't test them here)."
   ]
  }
 ],
 "metadata": {
  "kernelspec": {
   "display_name": "Python 3",
   "language": "python",
   "name": "python3"
  },
  "language_info": {
   "codemirror_mode": {
    "name": "ipython",
    "version": 3
   },
   "file_extension": ".py",
   "mimetype": "text/x-python",
   "name": "python",
   "nbconvert_exporter": "python",
   "pygments_lexer": "ipython3",
   "version": "3.6.9"
  }
 },
 "nbformat": 4,
 "nbformat_minor": 2
}
