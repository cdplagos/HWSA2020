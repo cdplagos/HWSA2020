{
 "cells": [
  {
   "cell_type": "markdown",
   "metadata": {},
   "source": [
    "# Harley Wood School for Astronomy 2020 \n",
    "\n",
    "\n",
    "## Session 1 - Advanced Python Programming\n",
    "\n",
    "This is the advanced python programming session. Here I will be assuming that you are already familiar with python programming, as the focus here is not on making code work but on the meta task of making code easier to use, develop, and share. Feel free to switch between Advanced and [Basic](link) at any time.\n",
    "\n",
    "## Outline\n",
    "\n",
    "1. Writing good code [cheat sheet](https://github.com/harley-wood-school-for-astronomy/HWSA2019/blob/master/GoodCode_CheatSheet.pdf)\n",
    " - [Functions](Functions.ipynb)\n",
    " - [Documentation](Documentation.ipynb)\n",
    " - [Testing](Testing.ipynb)\n",
    " - [Readability](Readability.ipynb)\n",
    " - [Vectorizing code](Vectorize.ipynb)\n",
    "2. [Turning your code into a library](https://docs.google.com/presentation/d/1VrwyQ8JevFkWl40-Wsw_MDq341BA6sFgruXRHI412TM/edit?usp=sharing)\n",
    " - Writing modules\n",
    " - Managing dependencies\n",
    " - Setup.py\n",
    "3. [Publishing and distributing code](https://docs.google.com/presentation/d/19gYPECdeU9DSwfqFZcChm6_dZjOiI9DXKK6XorSV4Rw/edit?usp=sharing)\n",
    " - Github\n",
    " - Pypi.org\n",
    " - Ascl.net\n",
    "4. [Github integrations](https://docs.google.com/presentation/d/1dUTVrwgfITne_zP3yUGBGsTuFB4Bqb5hZA_tI9r_HP8/edit?usp=sharing)\n",
    " - CI with Travis\n",
    " - Coverage via testing"
   ]
  },
  {
   "cell_type": "code",
   "execution_count": null,
   "metadata": {},
   "outputs": [],
   "source": []
  }
 ],
 "metadata": {
  "kernelspec": {
   "display_name": "Python 3",
   "language": "python",
   "name": "python3"
  },
  "language_info": {
   "codemirror_mode": {
    "name": "ipython",
    "version": 3
   },
   "file_extension": ".py",
   "mimetype": "text/x-python",
   "name": "python",
   "nbconvert_exporter": "python",
   "pygments_lexer": "ipython3",
   "version": "3.6.9"
  }
 },
 "nbformat": 4,
 "nbformat_minor": 2
}
