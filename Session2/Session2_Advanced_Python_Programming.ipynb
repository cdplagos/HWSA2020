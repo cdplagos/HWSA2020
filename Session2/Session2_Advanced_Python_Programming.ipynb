{
 "cells": [
  {
   "cell_type": "markdown",
   "metadata": {},
   "source": [
    "# Harley Wood School for Astronomy 2020 \n",
    "\n",
    "\n",
    "## Session 2 - Advanced Python Programming\n",
    "\n",
    "This is the advanced python programming session. Here I will be assuming that you are already familiar with python programming, as the focus here is not on making code work but on the meta task of making code easier to use, develop, and share. Feel free to switch between Session 2 and [Session 1](link) at any time.\n",
    "\n",
    "## Outline\n",
    "\n",
    "1. Writing good code [cheat sheet](https://github.com/harley-wood-school-for-astronomy/HWSA2019/blob/master/GoodCode_CheatSheet.pdf)\n",
    " - [Functions](Functions.ipynb)\n",
    " - [Documentation](Documentation.ipynb)\n",
    " - Testing\n",
    " - Readability\n",
    " - Optimise as you go\n",
    "2. Turning your code into a library\n",
    " - Setup.py\n",
    " - Writing modules\n",
    " - Managing dependencies\n",
    "3. Publishing and distributing code\n",
    " - Github\n",
    " - Pypi.org\n",
    " - Ascl.net\n",
    "4. Github integrations\n",
    " - CI with Travis\n",
    " - Coverage via testing\n",
    " - Auto-doc"
   ]
  }
 ],
 "metadata": {
  "kernelspec": {
   "display_name": "Python 3",
   "language": "python",
   "name": "python3"
  },
  "language_info": {
   "codemirror_mode": {
    "name": "ipython",
    "version": 3
   },
   "file_extension": ".py",
   "mimetype": "text/x-python",
   "name": "python",
   "nbconvert_exporter": "python",
   "pygments_lexer": "ipython3",
   "version": "3.6.9"
  }
 },
 "nbformat": 4,
 "nbformat_minor": 2
}
